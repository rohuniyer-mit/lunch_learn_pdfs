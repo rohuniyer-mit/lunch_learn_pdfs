{
 "cells": [
  {
   "cell_type": "code",
   "execution_count": 1,
   "metadata": {},
   "outputs": [],
   "source": [
    "import fitz\n",
    "import argparse\n",
    "import sys\n",
    "import os\n",
    "from pprint import pprint"
   ]
  },
  {
   "cell_type": "code",
   "execution_count": 2,
   "metadata": {},
   "outputs": [],
   "source": [
    "pdf = fitz.open('StatmentSearch.pdf')"
   ]
  },
  {
   "cell_type": "code",
   "execution_count": 3,
   "metadata": {},
   "outputs": [
    {
     "data": {
      "text/plain": [
       "Document('StatmentSearch.pdf')"
      ]
     },
     "execution_count": 3,
     "metadata": {},
     "output_type": "execute_result"
    }
   ],
   "source": [
    "pdf"
   ]
  },
  {
   "cell_type": "code",
   "execution_count": 5,
   "metadata": {},
   "outputs": [
    {
     "name": "stdout",
     "output_type": "stream",
     "text": [
      "PDF Page Count: 3\n"
     ]
    }
   ],
   "source": [
    "#Check Page Count\n",
    "print(\"PDF Page Count: {}\".format(pdf.page_count))"
   ]
  },
  {
   "cell_type": "code",
   "execution_count": 6,
   "metadata": {},
   "outputs": [],
   "source": [
    "#Get a specified page\n",
    "curr_page = pdf[2]"
   ]
  },
  {
   "cell_type": "code",
   "execution_count": 9,
   "metadata": {},
   "outputs": [
    {
     "data": {
      "text/plain": [
       "['Statement Details',\n",
       " 'December 5, 2019',\n",
       " 'NY Carol Avenue LLC (As to 17% Tic',\n",
       " '26 27 Avenue',\n",
       " '4-00885-0001',\n",
       " 'Page 3',\n",
       " 'If you own income producing property, you must file a Real Property Income and Expense Statement or a Claim of',\n",
       " 'Exclusion unless you are exempt by law. The deadline to file is June 3, 2020. Failure to file will result in penalties and',\n",
       " 'interest, which will become a lien on your property if they go unpaid. To see if you are exempt from this requirement and',\n",
       " 'to learn more, please visit nyc.gov/rpie.',\n",
       " 'One City Built to Last, Compliance Notification',\n",
       " 'Local Law 133/16 - Benchmarking Energy and Water Use',\n",
       " 'This property is required to benchmark its energy and water consumption for calendar year 2019 by May 1, 2020, in',\n",
       " 'accordance',\n",
       " 'with',\n",
       " 'NYC',\n",
       " 'Benchmarking',\n",
       " 'Law.',\n",
       " 'For',\n",
       " 'a',\n",
       " 'detailed',\n",
       " 'explanation',\n",
       " 'of',\n",
       " 'the',\n",
       " 'requirements,',\n",
       " 'please',\n",
       " 'visit',\n",
       " 'www.nyc.gov/benchmarking.',\n",
       " 'Local Law 33/18 - Disclosure of Energy Efficiency Scores and Grades',\n",
       " 'This property is now required to post an energy efficiency grade near each public entrance to the building. The energy',\n",
       " 'efficiency grade must be displayed within 30 days after it is made available to the owner by the NYC Dept. of',\n",
       " 'Buildings.',\n",
       " 'For information on Local Law 33, please visit https://www1.nyc.gov/site/buildings/business/benchmarking.page',\n",
       " 'Local Law 87/09 - Energy Audits and Retro-Commissioning',\n",
       " 'This property will also be required to complete Energy Audits and Retro-Commissioning in accordance with Local Law',\n",
       " '87 of 2009. If your property is on a tax block that ends in the number “9”, you will need to comply by December 31,',\n",
       " '2019. If your property is on a tax block that ends in the number “0”, you will need to comply by December 31, 2020. If',\n",
       " 'your property is on a tax block that ends in the number “2”, you will need to comply by December 31, 2022.To find your',\n",
       " 'tax block, visit www.nyc.gov/BBL.',\n",
       " 'For a detailed explanation of the requirements, please visit',\n",
       " 'https://www1.nyc.gov/site/buildings/business/energy-audits-and-retro-commissioning.page']"
      ]
     },
     "execution_count": 9,
     "metadata": {},
     "output_type": "execute_result"
    }
   ],
   "source": [
    "#Get text from that page and split the new lines\n",
    "page_lines = curr_page.get_text().splitlines()\n",
    "page_lines"
   ]
  },
  {
   "cell_type": "code",
   "execution_count": 16,
   "metadata": {},
   "outputs": [
    {
     "name": "stdout",
     "output_type": "stream",
     "text": [
      "[*] Wrote 41 lines in page pyMu_example.txt\n"
     ]
    }
   ],
   "source": [
    "#write to a new text file\n",
    "file = \"pyMu_example.txt\"\n",
    "f = open(file, \"w\")\n",
    "for line in page_lines:\n",
    "  #remove whitespace\n",
    "  line = line.strip()\n",
    "\n",
    "  #print to your specified file\n",
    "  f.write(line)\n",
    "  f.write(\"\\n\")\n",
    "print(f\"[*] Wrote {len(page_lines)} lines in page {file}\")  \n",
    "\n",
    "f.close()"
   ]
  },
  {
   "cell_type": "markdown",
   "metadata": {},
   "source": [
    "## Something harder"
   ]
  },
  {
   "cell_type": "code",
   "execution_count": 19,
   "metadata": {},
   "outputs": [
    {
     "data": {
      "text/plain": [
       "['6 ',\n",
       " ' ',\n",
       " 'Background ',\n",
       " 'Globally, in 2019, there are 272 million international migrants (UN-DESA, 2019). In 2018 the ILO ',\n",
       " 'estimated that there were 164 million international migrant workers (ILO, 2018a).1 Migrants ',\n",
       " 'who are fully integrated into the labour market can boost the income per capita of recipient ',\n",
       " 'economies by providing the labour and skills needed in critical occupations and sectors. Upon ',\n",
       " 'their return home, migrants at all skill levels also have the potential to make a positive ',\n",
       " 'contribution to economic development through financial investments, as well as human and ',\n",
       " 'social capital acquired abroad, such as new skills, ideas and know-how (ILO, 2017a). ',\n",
       " 'ILO evidence convincingly demonstrates the positive impact of recognition of skills and ',\n",
       " 'qualifications to address various labour market challenges and to bring substantial benefits for ',\n",
       " 'individuals, employers and national economies (Braňka, 2016).2 This is one of the primary ',\n",
       " 'reasons why countries are making significant efforts to improve their skills recognition tools ',\n",
       " 'and systems. ',\n",
       " 'The importance of skills recognition for migrant workers is stipulated in the ILO’s Human ',\n",
       " 'Resources Development Recommendation, 2004 (No. 195), Article 12: “Special provisions ',\n",
       " 'should be designed to ensure recognition and certification of skills and qualifications for ',\n",
       " 'migrant workers.” ',\n",
       " 'The importance of skill recognition for migrant and refugee workers was also acknowledged ',\n",
       " 'by ILO member States at the 2017 International Labour Conference, with the adoption of the ',\n",
       " 'Employment and Decent Work for Peace and Resilience Recommendation, 2017 (No. 205), ',\n",
       " 'which states: ',\n",
       " 'Members should include refugees in the actions taken with respect to employment, ',\n",
       " 'training and labour market access, as appropriate, and in particular: ',\n",
       " '(c) ',\n",
       " 'facilitate the recognition, certification, accreditation and use of skills and ',\n",
       " 'qualifications of refugees through appropriate mechanisms, and provide access to ',\n",
       " 'tailored training and retraining opportunities, including intensive language training; ',\n",
       " ' ',\n",
       " '1 The estimate is based on the UN-DESA 2017 data, reporting 258 million international migrants ',\n",
       " 'globally. ',\n",
       " '2 Based on a literature review and case studies covering 78 recognition systems. ']"
      ]
     },
     "execution_count": 19,
     "metadata": {},
     "output_type": "execute_result"
    }
   ],
   "source": [
    "pdf_large = fitz.open('wcms_748721.pdf')\n",
    "curr_page_large = pdf_large[8]\n",
    "page_lines_large = curr_page_large.get_text().splitlines()\n",
    "page_lines_large"
   ]
  },
  {
   "cell_type": "code",
   "execution_count": 20,
   "metadata": {},
   "outputs": [
    {
     "data": {
      "text/plain": [
       "'6    Background  Globally, in 2019, there are 272 million international migrants (UN-DESA, 2019). In 2018 the ILO  estimated that there were 164 million international migrant workers (ILO, 2018a).1 Migrants  who are fully integrated into the labour market can boost the income per capita of recipient  economies by providing the labour and skills needed in critical occupations and sectors. Upon  their return home, migrants at all skill levels also have the potential to make a positive  contribution to economic development through financial investments, as well as human and  social capital acquired abroad, such as new skills, ideas and know-how (ILO, 2017a).  ILO evidence convincingly demonstrates the positive impact of recognition of skills and  qualifications to address various labour market challenges and to bring substantial benefits for  individuals, employers and national economies (Braňka, 2016).2 This is one of the primary  reasons why countries are making significant efforts to improve their skills recognition tools  and systems.  The importance of skills recognition for migrant workers is stipulated in the ILO’s Human  Resources Development Recommendation, 2004 (No. 195), Article 12: “Special provisions  should be designed to ensure recognition and certification of skills and qualifications for  migrant workers.”  The importance of skill recognition for migrant and refugee workers was also acknowledged  by ILO member States at the 2017 International Labour Conference, with the adoption of the  Employment and Decent Work for Peace and Resilience Recommendation, 2017 (No. 205),  which states:  Members should include refugees in the actions taken with respect to employment,  training and labour market access, as appropriate, and in particular:  (c)  facilitate the recognition, certification, accreditation and use of skills and  qualifications of refugees through appropriate mechanisms, and provide access to  tailored training and retraining opportunities, including intensive language training;    1 The estimate is based on the UN-DESA 2017 data, reporting 258 million international migrants  globally.  2 Based on a literature review and case studies covering 78 recognition systems. '"
      ]
     },
     "execution_count": 20,
     "metadata": {},
     "output_type": "execute_result"
    }
   ],
   "source": [
    "' '.join(page_lines_large)"
   ]
  },
  {
   "cell_type": "code",
   "execution_count": null,
   "metadata": {},
   "outputs": [],
   "source": []
  }
 ],
 "metadata": {
  "kernelspec": {
   "display_name": "Python 3.9.13 ('ecuador_base')",
   "language": "python",
   "name": "python3"
  },
  "language_info": {
   "codemirror_mode": {
    "name": "ipython",
    "version": 3
   },
   "file_extension": ".py",
   "mimetype": "text/x-python",
   "name": "python",
   "nbconvert_exporter": "python",
   "pygments_lexer": "ipython3",
   "version": "3.9.13"
  },
  "orig_nbformat": 4,
  "vscode": {
   "interpreter": {
    "hash": "8637d34d89b1e4370fe559cd84636d4cf8dde19a4b03702e393b20c8bc1bdb63"
   }
  }
 },
 "nbformat": 4,
 "nbformat_minor": 2
}
